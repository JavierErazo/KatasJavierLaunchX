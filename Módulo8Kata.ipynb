{
 "cells": [
  {
   "cell_type": "markdown",
   "metadata": {},
   "source": [
    "# Ejercicio 1: Creación de diccionarios de Python"
   ]
  },
  {
   "cell_type": "code",
   "execution_count": 1,
   "metadata": {},
   "outputs": [],
   "source": [
    "# Crea un diccionario llamado planet con los datos propuestos\r\n",
    "\r\n",
    "planet = {\r\n",
    "    'name': 'Mars',\r\n",
    "    'moons': 2\r\n",
    "}"
   ]
  },
  {
   "cell_type": "code",
   "execution_count": 2,
   "metadata": {},
   "outputs": [
    {
     "name": "stdout",
     "output_type": "stream",
     "text": [
      "Mars tiene 2 lunas.\n"
     ]
    }
   ],
   "source": [
    "# Muestra el nombre del planeta y el número de lunas que tiene.\r\n",
    "print(f\"{planet['name']} tiene {planet['moons']} lunas.\")"
   ]
  },
  {
   "cell_type": "code",
   "execution_count": 3,
   "metadata": {},
   "outputs": [],
   "source": [
    "# Agrega la clave circunferencia con los datos proporcionados previamente\r\n",
    "planet['circunferencia_km'] = {\r\n",
    "    'polar': 6752,\r\n",
    "    'equatorial': 6792\r\n",
    "}"
   ]
  },
  {
   "cell_type": "code",
   "execution_count": 4,
   "metadata": {},
   "outputs": [
    {
     "name": "stdout",
     "output_type": "stream",
     "text": [
      "Mars tiene una circunferencia polar de 6752 km.\n"
     ]
    }
   ],
   "source": [
    "# Imprime el nombre del planeta con su circunferencia polar.\r\n",
    "print(f\"{planet['name']} tiene una circunferencia polar de {planet['circunferencia_km']['polar']} km.\")"
   ]
  },
  {
   "cell_type": "markdown",
   "metadata": {},
   "source": [
    "# Ejercicio 2: Programación dinámica con diccionarios"
   ]
  },
  {
   "cell_type": "code",
   "execution_count": 5,
   "metadata": {},
   "outputs": [],
   "source": [
    "# Planets and moons\r\n",
    "\r\n",
    "planet_moons = {\r\n",
    "    'mercury': 0,\r\n",
    "    'venus': 0,\r\n",
    "    'earth': 1,\r\n",
    "    'mars': 2,\r\n",
    "    'jupiter': 79,\r\n",
    "    'saturn': 82,\r\n",
    "    'uranus': 27,\r\n",
    "    'neptune': 14,\r\n",
    "    'pluto': 5,\r\n",
    "    'haumea': 2,\r\n",
    "    'makemake': 1,\r\n",
    "    'eris': 1\r\n",
    "}"
   ]
  },
  {
   "cell_type": "code",
   "execution_count": 6,
   "metadata": {},
   "outputs": [],
   "source": [
    "# Añade el código para determinar el número de lunas.\r\n",
    "moons = planet_moons.values()\r\n",
    "planets = len(planet_moons.keys())"
   ]
  },
  {
   "cell_type": "code",
   "execution_count": 7,
   "metadata": {},
   "outputs": [
    {
     "name": "stdout",
     "output_type": "stream",
     "text": [
      "El promedio de lunas por planeta es: 17.833333333333332\n"
     ]
    }
   ],
   "source": [
    "# Agrega el código para contar el número de lunas. \r\n",
    "total_moons = 0\r\n",
    "for moon in moons:\r\n",
    "    total_moons += moon\r\n",
    "\r\n",
    "promedio = total_moons / planets\r\n",
    "print(f\"El promedio de lunas por planeta es: {promedio}\")"
   ]
  }
 ],
 "metadata": {
  "interpreter": {
   "hash": "0ffb8f1f02a7a910eedc5c9dc954430668b0530aa8242476b4182e8ad136fbe9"
  },
  "kernelspec": {
   "display_name": "Python 3.9.5 64-bit",
   "name": "python3"
  },
  "language_info": {
   "codemirror_mode": {
    "name": "ipython",
    "version": 3
   },
   "file_extension": ".py",
   "mimetype": "text/x-python",
   "name": "python",
   "nbconvert_exporter": "python",
   "pygments_lexer": "ipython3",
   "version": "3.9.5"
  },
  "orig_nbformat": 4
 },
 "nbformat": 4,
 "nbformat_minor": 2
}