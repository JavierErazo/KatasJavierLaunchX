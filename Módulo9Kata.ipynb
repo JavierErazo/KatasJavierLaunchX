{
 "cells": [
  {
   "cell_type": "markdown",
   "metadata": {},
   "source": [
    "# Ejercicio 1: Trabajar con argumentos en funciones"
   ]
  },
  {
   "cell_type": "code",
   "execution_count": 247,
   "metadata": {},
   "outputs": [],
   "source": [
    "# Función para leer 3 tanques de combustible y muestre el promedio\r\n",
    "def obtener_reporte(tanque_uno, tanque_dos, tanque_tres):\r\n",
    "    promedio = (tanque_uno + tanque_dos + tanque_tres) / 3\r\n",
    "    return f\"Promedio Total: {promedio} \\n Tanque 1: {tanque_uno} \\n Tanque 2: {tanque_dos} \\n Tanque 3: {tanque_tres}\""
   ]
  },
  {
   "cell_type": "code",
   "execution_count": 248,
   "metadata": {},
   "outputs": [
    {
     "name": "stdout",
     "output_type": "stream",
     "text": [
      "Promedio Total: 20.0 \n",
      " Tanque 1: 10 \n",
      " Tanque 2: 20 \n",
      " Tanque 3: 30\n"
     ]
    }
   ],
   "source": [
    "# Llamamos a la función que genera el reporte print(funcion(tanque1, tanque2, tanque3))\r\n",
    "print(promedio_combustible(10, 20, 30))"
   ]
  },
  {
   "cell_type": "code",
   "execution_count": 249,
   "metadata": {},
   "outputs": [],
   "source": [
    "# Función promedio \r\n",
    "def promedio(tanque_uno, tanque_dos, tanque_tres):\r\n",
    "    return (tanque_uno + tanque_dos + tanque_tres) / 3"
   ]
  },
  {
   "cell_type": "code",
   "execution_count": 250,
   "metadata": {},
   "outputs": [
    {
     "name": "stdout",
     "output_type": "stream",
     "text": [
      "Promedio Total: 20.0 \n",
      " Tanque 1: 10 \n",
      " Tanque 2: 20 \n",
      " Tanque 3: 30\n"
     ]
    }
   ],
   "source": [
    "# Función para leer 3 tanques de combustible y muestre el promedio\r\n",
    "def promedio_combustible(tanque_uno, tanque_dos, tanque_tres):\r\n",
    "    return f\"Promedio Total: {promedio(tanque_uno, tanque_dos, tanque_tres)} \\n Tanque 1: {tanque_uno} \\n Tanque 2: {tanque_dos} \\n Tanque 3: {tanque_tres}\"\r\n",
    "    \r\n",
    "print(promedio_combustible(10, 20, 30))"
   ]
  },
  {
   "cell_type": "markdown",
   "metadata": {},
   "source": [
    "# Ejercicio 2: Trabajo con argumentos de palabra clave"
   ]
  },
  {
   "cell_type": "code",
   "execution_count": 251,
   "metadata": {},
   "outputs": [
    {
     "name": "stdout",
     "output_type": "stream",
     "text": [
      "Mision a: Luna\n",
      "Tiempo de vuelo total: 50 minutos\n",
      "Combustibe restante: 25000 galones.\n"
     ]
    }
   ],
   "source": [
    "# Función con un informe preciso de la misión. Considera hora de prelanzamiento, tiempo de vuelo, destino, tanque externo y tanque interno\r\n",
    "def obtener_reporte_mision(hora_prelanzamiento, tiempo_vuelo, destino, tanque_externo, tanque_interno):\r\n",
    "    return f\"Mision a: {destino}\\nTiempo de vuelo total: {hora_prelanzamiento + tiempo_vuelo} minutos\\nCombustibe restante: {tanque_externo + tanque_interno} galones.\"\r\n",
    "\r\n",
    "print(obtener_reporte_mision(10, 40, \"Luna\", 10000, 15000))"
   ]
  },
  {
   "cell_type": "code",
   "execution_count": 252,
   "metadata": {},
   "outputs": [
    {
     "name": "stdout",
     "output_type": "stream",
     "text": [
      "Mision a: Luna\n",
      "Tiempo de vuelo total: 50 minutos\n",
      "Combustibe restante: 25000 galones.\n"
     ]
    }
   ],
   "source": [
    "# Escribe tu nueva función de reporte considerando lo anterior\r\n",
    "def obtener_reporte_preciso(*minutes, destino, **fuel_reservoirs):\r\n",
    "    return f\"Mision a: {destino}\\nTiempo de vuelo total: {sum(minutes)} minutos\\nCombustibe restante: {sum(fuel_reservoirs.values())} galones.\"\r\n",
    "\r\n",
    "print(obtener_reporte_mision(10, 40, \"Luna\", tanque_externo = 10000, tanque_interno = 15000))"
   ]
  },
  {
   "cell_type": "code",
   "execution_count": 253,
   "metadata": {},
   "outputs": [
    {
     "name": "stdout",
     "output_type": "stream",
     "text": [
      "Mision a: Luna\n",
      "Tiempo de vuelo total: 50 minutos\n",
      "Combustibe restante: 3000 galones.\n",
      "Tanque interno: 1000 galones restantes.\n",
      "Tanque externo: 2000 galones restantes.\n",
      "\n"
     ]
    }
   ],
   "source": [
    "# Escribe tu nueva función\r\n",
    "def obtener_reporte_preciso_nuevo(destino, *minutes, **fuel_reservoirs):\r\n",
    "    reporte = f\"Mision a: {destino}\\nTiempo de vuelo total: {sum(minutes)} minutos\\nCombustibe restante: {sum(fuel_reservoirs.values())} galones.\\n\"\r\n",
    "    for nombre, galones in fuel_reservoirs.items():\r\n",
    "        reporte += f\"Tanque {nombre}: {str(galones)} galones restantes.\\n\"\r\n",
    "\r\n",
    "    return reporte\r\n",
    "\r\n",
    "print(obtener_reporte_preciso_nuevo(\"Luna\", 10, 40, interno = 1000, externo = 2000))"
   ]
  }
 ],
 "metadata": {
  "interpreter": {
   "hash": "0ffb8f1f02a7a910eedc5c9dc954430668b0530aa8242476b4182e8ad136fbe9"
  },
  "kernelspec": {
   "display_name": "Python 3.9.5 64-bit",
   "name": "python3"
  },
  "language_info": {
   "codemirror_mode": {
    "name": "ipython",
    "version": 3
   },
   "file_extension": ".py",
   "mimetype": "text/x-python",
   "name": "python",
   "nbconvert_exporter": "python",
   "pygments_lexer": "ipython3",
   "version": "3.9.5"
  },
  "orig_nbformat": 4
 },
 "nbformat": 4,
 "nbformat_minor": 2
}