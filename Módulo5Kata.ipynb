{
 "cells": [
  {
   "cell_type": "markdown",
   "metadata": {},
   "source": [
    "# Ejercicio 1"
   ]
  },
  {
   "cell_type": "code",
   "execution_count": 19,
   "metadata": {},
   "outputs": [],
   "source": [
    "# Crear variables para almacenar las dos distancias\r\n",
    "# ¡Asegúrate de quitar las comas!\r\n",
    "distancia_tierra = 149597870 \r\n",
    "distancia_jupiter = 778547200 "
   ]
  },
  {
   "cell_type": "code",
   "execution_count": 20,
   "metadata": {},
   "outputs": [
    {
     "name": "stdout",
     "output_type": "stream",
     "text": [
      "628949330\n",
      "390577534\n"
     ]
    }
   ],
   "source": [
    "# Calcular la distancia entre planetas\r\n",
    "distancia_total_km = abs(distancia_tierra - distancia_jupiter)\r\n",
    "print(distancia_total_km)\r\n",
    "\r\n",
    "distancia_total_millas = round(distancia_total_km * 0.621)\r\n",
    "print(distancia_total_millas)"
   ]
  },
  {
   "cell_type": "markdown",
   "metadata": {},
   "source": [
    "# Ejercicio 2: convierte cadenas en números y usa valores absolutos"
   ]
  },
  {
   "cell_type": "code",
   "execution_count": 21,
   "metadata": {},
   "outputs": [],
   "source": [
    "# Almacenar las entradas del usuario\r\n",
    "#Pista: variable = input(\"¿Cuál es tu nombre?\")\r\n",
    "primer_planeta = input(\"Introducir la distancia del primer planeta en KM: \")\r\n",
    "segundo_planeta = input(\"Introducir la distancia del segundo planeta en KM: \")"
   ]
  },
  {
   "cell_type": "code",
   "execution_count": 22,
   "metadata": {},
   "outputs": [],
   "source": [
    "# Convierte las cadenas de ambos planetas a números enteros\r\n",
    "distancia_primer_planeta = int(primer_planeta)\r\n",
    "distancia_segundo_planeta = int(segundo_planeta)"
   ]
  },
  {
   "cell_type": "code",
   "execution_count": 23,
   "metadata": {},
   "outputs": [
    {
     "name": "stdout",
     "output_type": "stream",
     "text": [
      "4437200000\n",
      "2755501200\n"
     ]
    }
   ],
   "source": [
    "# Realizar el cálculo y determinar el valor absoluto\r\n",
    "distancia_absoluta_km = abs(distancia_primer_planeta - distancia_segundo_planeta)\r\n",
    "print(distancia_absoluta_km)\r\n",
    "# Convertir de KM a Millas\r\n",
    "distancia_absoluta_millas = round(distancia_absoluta_km * 0.621)\r\n",
    "print(distancia_absoluta_millas)"
   ]
  }
 ],
 "metadata": {
  "interpreter": {
   "hash": "0ffb8f1f02a7a910eedc5c9dc954430668b0530aa8242476b4182e8ad136fbe9"
  },
  "kernelspec": {
   "display_name": "Python 3.9.5 64-bit",
   "name": "python3"
  },
  "language_info": {
   "codemirror_mode": {
    "name": "ipython",
    "version": 3
   },
   "file_extension": ".py",
   "mimetype": "text/x-python",
   "name": "python",
   "nbconvert_exporter": "python",
   "pygments_lexer": "ipython3",
   "version": "3.9.5"
  },
  "orig_nbformat": 4
 },
 "nbformat": 4,
 "nbformat_minor": 2
}