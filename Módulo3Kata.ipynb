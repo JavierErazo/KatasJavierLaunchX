{
 "cells": [
  {
   "cell_type": "markdown",
   "metadata": {},
   "source": [
    "# Ejercicio 1"
   ]
  },
  {
   "cell_type": "code",
   "execution_count": 5,
   "metadata": {},
   "outputs": [
    {
     "name": "stdout",
     "output_type": "stream",
     "text": [
      "ADVERTENCIA: ¡Un asteroide se acerca a la Tierra demasiado rápido!\n"
     ]
    }
   ],
   "source": [
    "# Añadir el código necesario para crear una variable que guarde la velocidad del asteroide.\r\n",
    "# Escribe una expresión de prueba para calcular si necesita una advertencia.\r\n",
    "# Agregue las instrucciones que se ejecutarán si la expresión de prueba es true o false.\r\n",
    "\r\n",
    "asteroide = 49\r\n",
    "if asteroide >= 25:\r\n",
    "    print(\"ADVERTENCIA: ¡Un asteroide se acerca a la Tierra demasiado rápido!\")\r\n",
    "else:\r\n",
    "    print(\"El espacio exterior pinta bien. Nada de que preocuparse.\")"
   ]
  },
  {
   "cell_type": "markdown",
   "metadata": {},
   "source": [
    "# Ejercicio 2"
   ]
  },
  {
   "cell_type": "code",
   "execution_count": 6,
   "metadata": {},
   "outputs": [
    {
     "name": "stdout",
     "output_type": "stream",
     "text": [
      "No hay nada que ver en el cielo.\n"
     ]
    }
   ],
   "source": [
    "# Agrega el código para crear una variable para un asteroide que viaja a 19 km/s\r\n",
    "# Escribe varias expresiones de prueba para determinar si puedes ver el rayo de luz desde la tierra\r\n",
    "# Agrega las instrucciones que se ejecutarán si las expresiones de prueba son True o False\r\n",
    "\r\n",
    "asteroide = 19\r\n",
    "if asteroide > 20:\r\n",
    "    print(\"¡Miren el rayo de luz en el cielo!\")\r\n",
    "elif asteroide == 20:\r\n",
    "    print(\"¡Miren el rayo de luz en el cielo!\")\r\n",
    "else:\r\n",
    "    print(\"No hay nada que ver en el cielo.\")"
   ]
  },
  {
   "cell_type": "markdown",
   "metadata": {},
   "source": [
    "# Ejercicio 3"
   ]
  },
  {
   "cell_type": "code",
   "execution_count": 9,
   "metadata": {},
   "outputs": [
    {
     "name": "stdout",
     "output_type": "stream",
     "text": [
      "El espacio exterior pinta bien. Nada de que preocuparse.\n"
     ]
    }
   ],
   "source": [
    "# Agrega el código para crear nuevas variables para la velocidad y el tamaño del asteroide\r\n",
    "# Para probar el código, prueba con varias velocidades y tamaños\r\n",
    "# Escribe varias expresiones de prueba o combinaciones de expresiones de prueba para determinar qué mensaje se debe enviar a Tierra.\r\n",
    "velocidad_asteroide = 25\r\n",
    "tamano_asteroide = 50\r\n",
    "                \r\n",
    "if velocidad_asteroide > 25 and (tamano_asteroide > 25 and tamano_asteroide < 1000):\r\n",
    "    print(\"¡PELIGRO! ¡Un asteroide se dirige a la Tierra!\")\r\n",
    "elif velocidad_asteroide >= 20:\r\n",
    "    print(\"¡Miren el rayo de luz en el cielo!\")\r\n",
    "elif tamano_asteroide < 25:\r\n",
    "    print(\"El espacio exterior pinta bien. Nada de que preocuparse.\")\r\n",
    "else:\r\n",
    "    print(\"El espacio exterior pinta bien. Nada de que preocuparse.\")\r\n"
   ]
  }
 ],
 "metadata": {
  "interpreter": {
   "hash": "0ffb8f1f02a7a910eedc5c9dc954430668b0530aa8242476b4182e8ad136fbe9"
  },
  "kernelspec": {
   "display_name": "Python 3.9.5 64-bit",
   "name": "python3"
  },
  "language_info": {
   "name": "python",
   "version": ""
  },
  "orig_nbformat": 4
 },
 "nbformat": 4,
 "nbformat_minor": 2
}